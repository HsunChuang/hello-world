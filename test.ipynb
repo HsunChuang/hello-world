{
 "cells": [
  {
   "cell_type": "code",
   "execution_count": 13,
   "metadata": {
    "collapsed": true
   },
   "outputs": [],
   "source": [
    "import pandas as pd\n",
    "import numpy as np\n",
    "import re"
   ]
  },
  {
   "cell_type": "markdown",
   "metadata": {},
   "source": [
    "# Part 1\n",
    "## counting"
   ]
  },
  {
   "cell_type": "code",
   "execution_count": 14,
   "metadata": {
    "collapsed": true
   },
   "outputs": [],
   "source": [
    "urls = [\n",
    "\"http://www.google.com/a.txt\",\n",
    "\"http://www.google.com.tw/a.txt\",\n",
    "\"http://www.google.com/download/c.jpg\",\n",
    "\"http://www.google.co.jp/a.txt\",\n",
    "\"http://www.google.com/b.txt\",\n",
    "\"https://facebook.com/movie/b.txt\",\n",
    "\"http://yahoo.com/123/000/c.jpg\",\n",
    "\"http://gliacloud.com/haha.png\",\n",
    "]"
   ]
  },
  {
   "cell_type": "code",
   "execution_count": 15,
   "metadata": {},
   "outputs": [],
   "source": [
    "url2=[]\n",
    "for i in urls:\n",
    "    tmp=re.split('/',i)\n",
    "    url2.append(tmp[-1])"
   ]
  },
  {
   "cell_type": "code",
   "execution_count": 16,
   "metadata": {},
   "outputs": [
    {
     "data": {
      "text/plain": [
       "{'a.txt': 3, 'b.txt': 2, 'c.jpg': 2, 'haha.png': 1}"
      ]
     },
     "execution_count": 16,
     "metadata": {},
     "output_type": "execute_result"
    }
   ],
   "source": [
    "count=dict()\n",
    "a=0\n",
    "for i in url2:\n",
    "    if i not in count:\n",
    "        count[i]=1\n",
    "    else:\n",
    "        count[i]+=1\n",
    "count"
   ]
  },
  {
   "cell_type": "code",
   "execution_count": 17,
   "metadata": {},
   "outputs": [
    {
     "name": "stdout",
     "output_type": "stream",
     "text": [
      "a.txt 3\n",
      "c.jpg 2\n",
      "b.txt 2\n"
     ]
    }
   ],
   "source": [
    "a=sorted(count.items(),key=lambda a:a[1],reverse=True)[:3]\n",
    "for i in a:\n",
    "    print(i[0],i[1])"
   ]
  },
  {
   "cell_type": "markdown",
   "metadata": {},
   "source": [
    "## Integration"
   ]
  },
  {
   "cell_type": "code",
   "execution_count": 18,
   "metadata": {},
   "outputs": [
    {
     "name": "stdout",
     "output_type": "stream",
     "text": [
      "356.08812499999914\n"
     ]
    }
   ],
   "source": [
    "def anonymous(x):\n",
    "    return x**2 + 1\n",
    "\n",
    "def integrate(fun, start, end):\n",
    "    step = 0.1\n",
    "    intercept = start\n",
    "    area = 0\n",
    "    \n",
    "    while intercept < end:\n",
    "        intercept += step\n",
    "        ''' your work here '''\n",
    "        \n",
    "        area_tmp=anonymous(intercept)*step\n",
    "        area_tmp2=anonymous(intercept-0.5*step)*step\n",
    "        area+=(area_tmp+area_tmp2)/2\n",
    "        \n",
    "    \n",
    "    \n",
    "    return area\n",
    "\n",
    "\n",
    "\n",
    "print(integrate(anonymous, 0, 10))"
   ]
  },
  {
   "cell_type": "code",
   "execution_count": null,
   "metadata": {
    "collapsed": true
   },
   "outputs": [],
   "source": []
  },
  {
   "cell_type": "markdown",
   "metadata": {},
   "source": [
    "## Multiples of 3 and 5."
   ]
  },
  {
   "cell_type": "code",
   "execution_count": 19,
   "metadata": {},
   "outputs": [
    {
     "name": "stdout",
     "output_type": "stream",
     "text": [
      "2318\n"
     ]
    }
   ],
   "source": [
    "def f(x): \n",
    "    return x%3 == 0 or x%5 == 0\n",
    "\n",
    "\n",
    "print(sum(filter(f, range(1, 100))))"
   ]
  },
  {
   "cell_type": "markdown",
   "metadata": {},
   "source": [
    "# Part 2\n",
    "## PTT爬蟲"
   ]
  },
  {
   "cell_type": "code",
   "execution_count": 20,
   "metadata": {
    "collapsed": true
   },
   "outputs": [],
   "source": [
    "import requests\n",
    "from bs4 import BeautifulSoup\n",
    "import os\n",
    "import pandas as pd"
   ]
  },
  {
   "cell_type": "code",
   "execution_count": 21,
   "metadata": {},
   "outputs": [
    {
     "name": "stderr",
     "output_type": "stream",
     "text": [
      "C:\\ProgramData\\Anaconda3\\lib\\site-packages\\urllib3\\connectionpool.py:858: InsecureRequestWarning: Unverified HTTPS request is being made. Adding certificate verification is strongly advised. See: https://urllib3.readthedocs.io/en/latest/advanced-usage.html#ssl-warnings\n",
      "  InsecureRequestWarning)\n",
      "C:\\ProgramData\\Anaconda3\\lib\\site-packages\\urllib3\\connectionpool.py:858: InsecureRequestWarning: Unverified HTTPS request is being made. Adding certificate verification is strongly advised. See: https://urllib3.readthedocs.io/en/latest/advanced-usage.html#ssl-warnings\n",
      "  InsecureRequestWarning)\n",
      "C:\\ProgramData\\Anaconda3\\lib\\site-packages\\bs4\\__init__.py:181: UserWarning: No parser was explicitly specified, so I'm using the best available HTML parser for this system (\"lxml\"). This usually isn't a problem, but if you run this code on another system, or in a different virtual environment, it may use a different parser and behave differently.\n",
      "\n",
      "The code that caused this warning is on line 193 of the file C:\\ProgramData\\Anaconda3\\lib\\runpy.py. To get rid of this warning, change code that looks like this:\n",
      "\n",
      " BeautifulSoup(YOUR_MARKUP})\n",
      "\n",
      "to this:\n",
      "\n",
      " BeautifulSoup(YOUR_MARKUP, \"lxml\")\n",
      "\n",
      "  markup_type=markup_type))\n",
      "C:\\ProgramData\\Anaconda3\\lib\\site-packages\\urllib3\\connectionpool.py:858: InsecureRequestWarning: Unverified HTTPS request is being made. Adding certificate verification is strongly advised. See: https://urllib3.readthedocs.io/en/latest/advanced-usage.html#ssl-warnings\n",
      "  InsecureRequestWarning)\n",
      "C:\\ProgramData\\Anaconda3\\lib\\site-packages\\urllib3\\connectionpool.py:858: InsecureRequestWarning: Unverified HTTPS request is being made. Adding certificate verification is strongly advised. See: https://urllib3.readthedocs.io/en/latest/advanced-usage.html#ssl-warnings\n",
      "  InsecureRequestWarning)\n",
      "C:\\ProgramData\\Anaconda3\\lib\\site-packages\\urllib3\\connectionpool.py:858: InsecureRequestWarning: Unverified HTTPS request is being made. Adding certificate verification is strongly advised. See: https://urllib3.readthedocs.io/en/latest/advanced-usage.html#ssl-warnings\n",
      "  InsecureRequestWarning)\n"
     ]
    }
   ],
   "source": [
    "    \n",
    "url='https://www.ptt.cc/bbs/Gossiping/index.html'  #更換看板名稱\n",
    "resp = requests.get(url,verify=False)\n",
    "soup = BeautifulSoup(resp.text)\n",
    "\n",
    "    load={\n",
    "    'from':'/bbs/Gossiping/index.html',\n",
    "    'yes':'yes'    \n",
    "    }\n",
    "\n",
    "rs=requests.session()\n",
    "res=rs.post('https://www.ptt.cc/ask/over18',verify=False,data=load)\n",
    "res=rs.get(url,verify=False)\n",
    "soup=BeautifulSoup(res.text)\n",
    "\n",
    "\n",
    "    "
   ]
  },
  {
   "cell_type": "code",
   "execution_count": null,
   "metadata": {
    "collapsed": true
   },
   "outputs": [],
   "source": []
  },
  {
   "cell_type": "code",
   "execution_count": 22,
   "metadata": {},
   "outputs": [
    {
     "data": {
      "text/plain": [
       "<!DOCTYPE html>\n",
       "<html>\n",
       "<head>\n",
       "<meta charset=\"utf-8\"/>\n",
       "<meta content=\"width=device-width, initial-scale=1\" name=\"viewport\"/>\n",
       "<title>看板 Gossiping 文章列表 - 批踢踢實業坊</title>\n",
       "<link href=\"//images.ptt.cc/bbs/v2.25/bbs-common.css\" rel=\"stylesheet\" type=\"text/css\"/>\n",
       "<link href=\"//images.ptt.cc/bbs/v2.25/bbs-base.css\" media=\"screen\" rel=\"stylesheet\" type=\"text/css\"/>\n",
       "<link href=\"//images.ptt.cc/bbs/v2.25/bbs-custom.css\" rel=\"stylesheet\" type=\"text/css\"/>\n",
       "<link href=\"//images.ptt.cc/bbs/v2.25/pushstream.css\" media=\"screen\" rel=\"stylesheet\" type=\"text/css\"/>\n",
       "<link href=\"//images.ptt.cc/bbs/v2.25/bbs-print.css\" media=\"print\" rel=\"stylesheet\" type=\"text/css\"/>\n",
       "</head>\n",
       "<body>\n",
       "<div id=\"topbar-container\">\n",
       "<div class=\"bbs-content\" id=\"topbar\">\n",
       "<a href=\"/bbs/\" id=\"logo\">批踢踢實業坊</a>\n",
       "<span>›</span>\n",
       "<a class=\"board\" href=\"/bbs/Gossiping/index.html\"><span class=\"board-label\">看板 </span>Gossiping</a>\n",
       "<a class=\"right small\" href=\"/about.html\">關於我們</a>\n",
       "<a class=\"right small\" href=\"/contact.html\">聯絡資訊</a>\n",
       "</div>\n",
       "</div>\n",
       "<div id=\"main-container\">\n",
       "<div id=\"action-bar-container\">\n",
       "<div class=\"action-bar\">\n",
       "<div class=\"btn-group btn-group-dir\">\n",
       "<a class=\"btn selected\" href=\"/bbs/Gossiping/index.html\">看板</a>\n",
       "<a class=\"btn\" href=\"/man/Gossiping/index.html\">精華區</a>\n",
       "</div>\n",
       "<div class=\"btn-group btn-group-paging\">\n",
       "<a class=\"btn wide\" href=\"/bbs/Gossiping/index1.html\">最舊</a>\n",
       "<a class=\"btn wide\" href=\"/bbs/Gossiping/index39177.html\">‹ 上頁</a>\n",
       "<a class=\"btn wide disabled\">下頁 ›</a>\n",
       "<a class=\"btn wide\" href=\"/bbs/Gossiping/index.html\">最新</a>\n",
       "</div>\n",
       "</div>\n",
       "</div>\n",
       "<div class=\"r-list-container action-bar-margin bbs-screen\">\n",
       "<div class=\"search-bar\">\n",
       "<form action=\"search\" id=\"search-bar\" type=\"get\">\n",
       "<input class=\"query\" name=\"q\" placeholder=\"搜尋文章⋯\" type=\"text\" value=\"\"/>\n",
       "</form>\n",
       "</div>\n",
       "<div class=\"r-ent\">\n",
       "<div class=\"nrec\"><span class=\"hl f2\">3</span></div>\n",
       "<div class=\"title\">\n",
       "<a href=\"/bbs/Gossiping/M.1541564417.A.5D3.html\">[新聞] 台中》親綠智庫民調出爐 盧秀燕35.7％ 林</a>\n",
       "</div>\n",
       "<div class=\"meta\">\n",
       "<div class=\"author\">diefishfish</div>\n",
       "<div class=\"article-menu\">\n",
       "<div class=\"trigger\">⋯</div>\n",
       "<div class=\"dropdown\">\n",
       "<div class=\"item\"><a href=\"/bbs/Gossiping/search?q=thread%3A%5B%E6%96%B0%E8%81%9E%5D+%E5%8F%B0%E4%B8%AD%E3%80%8B%E8%A6%AA%E7%B6%A0%E6%99%BA%E5%BA%AB%E6%B0%91%E8%AA%BF%E5%87%BA%E7%88%90+%E7%9B%A7%E7%A7%80%E7%87%9535.7%EF%BC%85+%E6%9E%97\">搜尋同標題文章</a></div>\n",
       "<div class=\"item\"><a href=\"/bbs/Gossiping/search?q=author%3Adiefishfish\">搜尋看板內 diefishfish 的文章</a></div>\n",
       "</div>\n",
       "</div>\n",
       "<div class=\"date\">11/07</div>\n",
       "<div class=\"mark\"></div>\n",
       "</div>\n",
       "</div>\n",
       "<div class=\"r-ent\">\n",
       "<div class=\"nrec\"></div>\n",
       "<div class=\"title\">\n",
       "<a href=\"/bbs/Gossiping/M.1541564419.A.8E4.html\">Re: [新聞] 空汙嚴重！ 一張圖看台灣近半淪陷</a>\n",
       "</div>\n",
       "<div class=\"meta\">\n",
       "<div class=\"author\">watermind</div>\n",
       "<div class=\"article-menu\">\n",
       "<div class=\"trigger\">⋯</div>\n",
       "<div class=\"dropdown\">\n",
       "<div class=\"item\"><a href=\"/bbs/Gossiping/search?q=thread%3A%5B%E6%96%B0%E8%81%9E%5D+%E7%A9%BA%E6%B1%99%E5%9A%B4%E9%87%8D%EF%BC%81+%E4%B8%80%E5%BC%B5%E5%9C%96%E7%9C%8B%E5%8F%B0%E7%81%A3%E8%BF%91%E5%8D%8A%E6%B7%AA%E9%99%B7\">搜尋同標題文章</a></div>\n",
       "<div class=\"item\"><a href=\"/bbs/Gossiping/search?q=author%3Awatermind\">搜尋看板內 watermind 的文章</a></div>\n",
       "</div>\n",
       "</div>\n",
       "<div class=\"date\">11/07</div>\n",
       "<div class=\"mark\"></div>\n",
       "</div>\n",
       "</div>\n",
       "<div class=\"r-ent\">\n",
       "<div class=\"nrec\"><span class=\"hl f2\">1</span></div>\n",
       "<div class=\"title\">\n",
       "<a href=\"/bbs/Gossiping/M.1541564430.A.790.html\">[問卦] 男生幹嘛討厭甲甲？</a>\n",
       "</div>\n",
       "<div class=\"meta\">\n",
       "<div class=\"author\">glthe1</div>\n",
       "<div class=\"article-menu\">\n",
       "<div class=\"trigger\">⋯</div>\n",
       "<div class=\"dropdown\">\n",
       "<div class=\"item\"><a href=\"/bbs/Gossiping/search?q=thread%3A%5B%E5%95%8F%E5%8D%A6%5D+%E7%94%B7%E7%94%9F%E5%B9%B9%E5%98%9B%E8%A8%8E%E5%8E%AD%E7%94%B2%E7%94%B2%EF%BC%9F\">搜尋同標題文章</a></div>\n",
       "<div class=\"item\"><a href=\"/bbs/Gossiping/search?q=author%3Aglthe1\">搜尋看板內 glthe1 的文章</a></div>\n",
       "</div>\n",
       "</div>\n",
       "<div class=\"date\">11/07</div>\n",
       "<div class=\"mark\"></div>\n",
       "</div>\n",
       "</div>\n",
       "<div class=\"r-ent\">\n",
       "<div class=\"nrec\"><span class=\"hl f2\">1</span></div>\n",
       "<div class=\"title\">\n",
       "<a href=\"/bbs/Gossiping/M.1541564435.A.495.html\">[問卦] 台積電設備工程師嗆張忠謀會怎樣?</a>\n",
       "</div>\n",
       "<div class=\"meta\">\n",
       "<div class=\"author\">horse5566lee</div>\n",
       "<div class=\"article-menu\">\n",
       "<div class=\"trigger\">⋯</div>\n",
       "<div class=\"dropdown\">\n",
       "<div class=\"item\"><a href=\"/bbs/Gossiping/search?q=thread%3A%5B%E5%95%8F%E5%8D%A6%5D+%E5%8F%B0%E7%A9%8D%E9%9B%BB%E8%A8%AD%E5%82%99%E5%B7%A5%E7%A8%8B%E5%B8%AB%E5%97%86%E5%BC%B5%E5%BF%A0%E8%AC%80%E6%9C%83%E6%80%8E%E6%A8%A3%3F\">搜尋同標題文章</a></div>\n",
       "<div class=\"item\"><a href=\"/bbs/Gossiping/search?q=author%3Ahorse5566lee\">搜尋看板內 horse5566lee 的文章</a></div>\n",
       "</div>\n",
       "</div>\n",
       "<div class=\"date\">11/07</div>\n",
       "<div class=\"mark\"></div>\n",
       "</div>\n",
       "</div>\n",
       "<div class=\"r-ent\">\n",
       "<div class=\"nrec\"><span class=\"hl f2\">1</span></div>\n",
       "<div class=\"title\">\n",
       "<a href=\"/bbs/Gossiping/M.1541564465.A.C04.html\">[新聞] 要花香不要菸味　台中花博園區全面禁菸</a>\n",
       "</div>\n",
       "<div class=\"meta\">\n",
       "<div class=\"author\">skizard</div>\n",
       "<div class=\"article-menu\">\n",
       "<div class=\"trigger\">⋯</div>\n",
       "<div class=\"dropdown\">\n",
       "<div class=\"item\"><a href=\"/bbs/Gossiping/search?q=thread%3A%5B%E6%96%B0%E8%81%9E%5D+%E8%A6%81%E8%8A%B1%E9%A6%99%E4%B8%8D%E8%A6%81%E8%8F%B8%E5%91%B3%E3%80%80%E5%8F%B0%E4%B8%AD%E8%8A%B1%E5%8D%9A%E5%9C%92%E5%8D%80%E5%85%A8%E9%9D%A2%E7%A6%81%E8%8F%B8\">搜尋同標題文章</a></div>\n",
       "<div class=\"item\"><a href=\"/bbs/Gossiping/search?q=author%3Askizard\">搜尋看板內 skizard 的文章</a></div>\n",
       "</div>\n",
       "</div>\n",
       "<div class=\"date\">11/07</div>\n",
       "<div class=\"mark\"></div>\n",
       "</div>\n",
       "</div>\n",
       "<div class=\"r-ent\">\n",
       "<div class=\"nrec\"></div>\n",
       "<div class=\"title\">\n",
       "<a href=\"/bbs/Gossiping/M.1541564472.A.569.html\">[問卦] 米花市市民跟華農家竹鼠哪個比較慘</a>\n",
       "</div>\n",
       "<div class=\"meta\">\n",
       "<div class=\"author\">iamotter5566</div>\n",
       "<div class=\"article-menu\">\n",
       "<div class=\"trigger\">⋯</div>\n",
       "<div class=\"dropdown\">\n",
       "<div class=\"item\"><a href=\"/bbs/Gossiping/search?q=thread%3A%5B%E5%95%8F%E5%8D%A6%5D+%E7%B1%B3%E8%8A%B1%E5%B8%82%E5%B8%82%E6%B0%91%E8%B7%9F%E8%8F%AF%E8%BE%B2%E5%AE%B6%E7%AB%B9%E9%BC%A0%E5%93%AA%E5%80%8B%E6%AF%94%E8%BC%83%E6%85%98\">搜尋同標題文章</a></div>\n",
       "<div class=\"item\"><a href=\"/bbs/Gossiping/search?q=author%3Aiamotter5566\">搜尋看板內 iamotter5566 的文章</a></div>\n",
       "</div>\n",
       "</div>\n",
       "<div class=\"date\">11/07</div>\n",
       "<div class=\"mark\"></div>\n",
       "</div>\n",
       "</div>\n",
       "<div class=\"r-list-sep\"></div>\n",
       "<div class=\"r-ent\">\n",
       "<div class=\"nrec\"><span class=\"hl f2\">1</span></div>\n",
       "<div class=\"title\">\n",
       "<a href=\"/bbs/Gossiping/M.1510415718.A.D77.html\">[公告] 八卦板板規(2017.11.11)</a>\n",
       "</div>\n",
       "<div class=\"meta\">\n",
       "<div class=\"author\">Kay731</div>\n",
       "<div class=\"article-menu\">\n",
       "<div class=\"trigger\">⋯</div>\n",
       "<div class=\"dropdown\">\n",
       "<div class=\"item\"><a href=\"/bbs/Gossiping/search?q=thread%3A%5B%E5%85%AC%E5%91%8A%5D+%E5%85%AB%E5%8D%A6%E6%9D%BF%E6%9D%BF%E8%A6%8F%282017.11.11%29\">搜尋同標題文章</a></div>\n",
       "<div class=\"item\"><a href=\"/bbs/Gossiping/search?q=author%3AKay731\">搜尋看板內 Kay731 的文章</a></div>\n",
       "</div>\n",
       "</div>\n",
       "<div class=\"date\">11/11</div>\n",
       "<div class=\"mark\">!</div>\n",
       "</div>\n",
       "</div>\n",
       "<div class=\"r-ent\">\n",
       "<div class=\"nrec\"><span class=\"hl f3\">13</span></div>\n",
       "<div class=\"title\">\n",
       "<a href=\"/bbs/Gossiping/M.1541259848.A.C7E.html\">[公告] ★震撼彈!!八卦板板主補選投票開始★</a>\n",
       "</div>\n",
       "<div class=\"meta\">\n",
       "<div class=\"author\">jacklyl</div>\n",
       "<div class=\"article-menu\">\n",
       "<div class=\"trigger\">⋯</div>\n",
       "<div class=\"dropdown\">\n",
       "<div class=\"item\"><a href=\"/bbs/Gossiping/search?q=thread%3A%5B%E5%85%AC%E5%91%8A%5D+%E2%98%85%E9%9C%87%E6%92%BC%E5%BD%88%21%21%E5%85%AB%E5%8D%A6%E6%9D%BF%E6%9D%BF%E4%B8%BB%E8%A3%9C%E9%81%B8%E6%8A%95%E7%A5%A8%E9%96%8B%E5%A7%8B%E2%98%85\">搜尋同標題文章</a></div>\n",
       "<div class=\"item\"><a href=\"/bbs/Gossiping/search?q=author%3Ajacklyl\">搜尋看板內 jacklyl 的文章</a></div>\n",
       "</div>\n",
       "</div>\n",
       "<div class=\"date\">11/03</div>\n",
       "<div class=\"mark\">M</div>\n",
       "</div>\n",
       "</div>\n",
       "<div class=\"r-ent\">\n",
       "<div class=\"nrec\"><span class=\"hl f3\">18</span></div>\n",
       "<div class=\"title\">\n",
       "<a href=\"/bbs/Gossiping/M.1541440443.A.732.html\">[協尋] 多篇(台北文山,公館,北車/高雄永安,自由)</a>\n",
       "</div>\n",
       "<div class=\"meta\">\n",
       "<div class=\"author\">jacklyl</div>\n",
       "<div class=\"article-menu\">\n",
       "<div class=\"trigger\">⋯</div>\n",
       "<div class=\"dropdown\">\n",
       "<div class=\"item\"><a href=\"/bbs/Gossiping/search?q=thread%3A%5B%E5%8D%94%E5%B0%8B%5D+%E5%A4%9A%E7%AF%87%28%E5%8F%B0%E5%8C%97%E6%96%87%E5%B1%B1%2C%E5%85%AC%E9%A4%A8%2C%E5%8C%97%E8%BB%8A%2F%E9%AB%98%E9%9B%84%E6%B0%B8%E5%AE%89%2C%E8%87%AA%E7%94%B1%29\">搜尋同標題文章</a></div>\n",
       "<div class=\"item\"><a href=\"/bbs/Gossiping/search?q=author%3Ajacklyl\">搜尋看板內 jacklyl 的文章</a></div>\n",
       "</div>\n",
       "</div>\n",
       "<div class=\"date\">11/06</div>\n",
       "<div class=\"mark\"></div>\n",
       "</div>\n",
       "</div>\n",
       "<div class=\"r-ent\">\n",
       "<div class=\"nrec\"><span class=\"hl f1\">爆</span></div>\n",
       "<div class=\"title\">\n",
       "<a href=\"/bbs/Gossiping/M.1538319270.A.13E.html\">[公告] 政問罰則暫時提高至16個月</a>\n",
       "</div>\n",
       "<div class=\"meta\">\n",
       "<div class=\"author\">RandyMarsh</div>\n",
       "<div class=\"article-menu\">\n",
       "<div class=\"trigger\">⋯</div>\n",
       "<div class=\"dropdown\">\n",
       "<div class=\"item\"><a href=\"/bbs/Gossiping/search?q=thread%3A%5B%E5%85%AC%E5%91%8A%5D+%E6%94%BF%E5%95%8F%E7%BD%B0%E5%89%87%E6%9A%AB%E6%99%82%E6%8F%90%E9%AB%98%E8%87%B316%E5%80%8B%E6%9C%88\">搜尋同標題文章</a></div>\n",
       "<div class=\"item\"><a href=\"/bbs/Gossiping/search?q=author%3ARandyMarsh\">搜尋看板內 RandyMarsh 的文章</a></div>\n",
       "</div>\n",
       "</div>\n",
       "<div class=\"date\"> 9/30</div>\n",
       "<div class=\"mark\">M</div>\n",
       "</div>\n",
       "</div>\n",
       "<div class=\"r-ent\">\n",
       "<div class=\"nrec\"><span class=\"hl f2\">9</span></div>\n",
       "<div class=\"title\">\n",
       "<a href=\"/bbs/Gossiping/M.1541093112.A.727.html\">[公告] 十一月置底閒聊聊天文</a>\n",
       "</div>\n",
       "<div class=\"meta\">\n",
       "<div class=\"author\">jacklyl</div>\n",
       "<div class=\"article-menu\">\n",
       "<div class=\"trigger\">⋯</div>\n",
       "<div class=\"dropdown\">\n",
       "<div class=\"item\"><a href=\"/bbs/Gossiping/search?q=thread%3A%5B%E5%85%AC%E5%91%8A%5D+%E5%8D%81%E4%B8%80%E6%9C%88%E7%BD%AE%E5%BA%95%E9%96%92%E8%81%8A%E8%81%8A%E5%A4%A9%E6%96%87\">搜尋同標題文章</a></div>\n",
       "<div class=\"item\"><a href=\"/bbs/Gossiping/search?q=author%3Ajacklyl\">搜尋看板內 jacklyl 的文章</a></div>\n",
       "</div>\n",
       "</div>\n",
       "<div class=\"date\">11/02</div>\n",
       "<div class=\"mark\">M</div>\n",
       "</div>\n",
       "</div>\n",
       "</div>\n",
       "<div class=\"bbs-screen bbs-footer-message\">本網站已依台灣網站內容分級規定處理。此區域為限制級，未滿十八歲者不得瀏覽。</div>\n",
       "</div>\n",
       "<script>\n",
       "  (function(i,s,o,g,r,a,m){i['GoogleAnalyticsObject']=r;i[r]=i[r]||function(){\n",
       "  (i[r].q=i[r].q||[]).push(arguments)},i[r].l=1*new Date();a=s.createElement(o),\n",
       "  m=s.getElementsByTagName(o)[0];a.async=1;a.src=g;m.parentNode.insertBefore(a,m)\n",
       "  })(window,document,'script','https://www.google-analytics.com/analytics.js','ga');\n",
       "\n",
       "  ga('create', 'UA-32365737-1', {\n",
       "    cookieDomain: 'ptt.cc',\n",
       "    legacyCookieDomain: 'ptt.cc'\n",
       "  });\n",
       "  ga('send', 'pageview');\n",
       "</script>\n",
       "<script src=\"//ajax.googleapis.com/ajax/libs/jquery/2.1.1/jquery.min.js\"></script>\n",
       "<script src=\"//images.ptt.cc/bbs/v2.25/bbs.js\"></script>\n",
       "</body>\n",
       "</html>"
      ]
     },
     "execution_count": 22,
     "metadata": {},
     "output_type": "execute_result"
    }
   ],
   "source": [
    "soup"
   ]
  },
  {
   "cell_type": "code",
   "execution_count": 24,
   "metadata": {},
   "outputs": [
    {
     "name": "stdout",
     "output_type": "stream",
     "text": [
      "11/07 diefishfish \n",
      "[新聞] 台中》親綠智庫民調出爐 盧秀燕35.7％ 林\n",
      "\n",
      "11/07 watermind \n",
      "Re: [新聞] 空汙嚴重！ 一張圖看台灣近半淪陷\n",
      "\n",
      "11/07 glthe1 \n",
      "[問卦] 男生幹嘛討厭甲甲？\n",
      "\n",
      "11/07 horse5566lee \n",
      "[問卦] 台積電設備工程師嗆張忠謀會怎樣?\n",
      "\n",
      "11/07 skizard \n",
      "[新聞] 要花香不要菸味　台中花博園區全面禁菸\n",
      "\n"
     ]
    }
   ],
   "source": [
    "for e in soup.select('.r-ent')[:5]:\n",
    "    print(e.select('.date')[0].text,e.select('.author')[0].text,e.select('.title')[0].text)\n",
    "    "
   ]
  },
  {
   "cell_type": "code",
   "execution_count": null,
   "metadata": {
    "collapsed": true
   },
   "outputs": [],
   "source": []
  }
 ],
 "metadata": {
  "kernelspec": {
   "display_name": "Python 3",
   "language": "python",
   "name": "python3"
  },
  "language_info": {
   "codemirror_mode": {
    "name": "ipython",
    "version": 3
   },
   "file_extension": ".py",
   "mimetype": "text/x-python",
   "name": "python",
   "nbconvert_exporter": "python",
   "pygments_lexer": "ipython3",
   "version": "3.6.3"
  }
 },
 "nbformat": 4,
 "nbformat_minor": 2
}
